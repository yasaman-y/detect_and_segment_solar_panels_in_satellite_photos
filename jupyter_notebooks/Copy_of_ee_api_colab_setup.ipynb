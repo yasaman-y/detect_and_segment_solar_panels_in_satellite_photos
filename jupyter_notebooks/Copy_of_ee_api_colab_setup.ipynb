{
  "cells": [
    {
      "cell_type": "code",
      "execution_count": 2,
      "metadata": {
        "colab": {
          "base_uri": "https://localhost:8080/"
        },
        "id": "ReKOg5G5uToA",
        "outputId": "ea4fef31-09ba-43fb-b8f0-edda099a6592"
      },
      "outputs": [
        {
          "name": "stdout",
          "output_type": "stream",
          "text": [
            "Mounted at /content/drive\n"
          ]
        }
      ],
      "source": [
        "# from google.colab import drive\n",
        "# drive.mount('/content/drive')"
      ]
    },
    {
      "cell_type": "code",
      "execution_count": 3,
      "metadata": {
        "colab": {
          "base_uri": "https://localhost:8080/"
        },
        "id": "2oIlmjSRuUXk",
        "outputId": "3d7691f0-08bf-434d-9dc2-d67d020c2dbc"
      },
      "outputs": [
        {
          "name": "stdout",
          "output_type": "stream",
          "text": [
            "/content/drive/MyDrive/Proactiveware\n"
          ]
        }
      ],
      "source": [
        "# %cd /content/drive/MyDrive/Proactiveware"
      ]
    },
    {
      "cell_type": "code",
      "execution_count": 4,
      "metadata": {
        "colab": {
          "base_uri": "https://localhost:8080/"
        },
        "id": "fdlDTAksuthq",
        "outputId": "6b074acc-3d12-4142-ec4d-6e08b8f0df6f"
      },
      "outputs": [
        {
          "name": "stdout",
          "output_type": "stream",
          "text": [
            "/content/drive/MyDrive/Proactiveware\n"
          ]
        }
      ],
      "source": [
        "# !pwd"
      ]
    },
    {
      "cell_type": "code",
      "execution_count": 1,
      "metadata": {
        "colab": {
          "base_uri": "https://localhost:8080/"
        },
        "id": "NZg152cRWq89",
        "outputId": "150bb1e6-4199-45c0-fc58-ca5b3850cb44"
      },
      "outputs": [],
      "source": [
        "# !pip install geopandas\n",
        "# !pip install earthengine-api\n",
        "# !pip install folium\n",
        "# # !pip install sentinelhub\n",
        "# !pip install gpd\n",
        "# !pip install georaster\n",
        "# !pip install folium Pillow\n",
        "# !pip install geemap\n"
      ]
    },
    {
      "cell_type": "code",
      "execution_count": null,
      "metadata": {},
      "outputs": [],
      "source": [
        "# !pip create -n gee python=3.8\n",
        "# !pip activate gee\n",
        "# !pip  install geopandas\n",
        "# !pip install mamba \n",
        "# mamba install geemap -c conda-forge"
      ]
    },
    {
      "cell_type": "code",
      "execution_count": null,
      "metadata": {},
      "outputs": [
        {
          "ename": "AttributeError",
          "evalue": "module 'ee' has no attribute 'Authenticate'",
          "output_type": "error",
          "traceback": [
            "\u001b[0;31m---------------------------------------------------------------------------\u001b[0m\n",
            "\u001b[0;31mAttributeError\u001b[0m                            Traceback (most recent call last)\n",
            "Cell \u001b[0;32mIn[3], line 5\u001b[0m\n",
            "\u001b[1;32m      3\u001b[0m \u001b[39mimport\u001b[39;00m \u001b[39mee\u001b[39;00m\n",
            "\u001b[1;32m      4\u001b[0m \u001b[39m# Trigger the authentication flow.\u001b[39;00m\n",
            "\u001b[0;32m----> 5\u001b[0m ee\u001b[39m.\u001b[39;49mAuthenticate()\n",
            "\u001b[1;32m      6\u001b[0m \u001b[39m# import geopandas as gpd\u001b[39;00m\n",
            "\u001b[1;32m      7\u001b[0m \u001b[39mimport\u001b[39;00m \u001b[39mmatplotlib\u001b[39;00m\u001b[39m.\u001b[39;00m\u001b[39mpyplot\u001b[39;00m \u001b[39mas\u001b[39;00m \u001b[39mplt\u001b[39;00m\n",
            "\n",
            "\u001b[0;31mAttributeError\u001b[0m: module 'ee' has no attribute 'Authenticate'"
          ]
        }
      ],
      "source": [
        "# import io.StringIO\n",
        "\n",
        "import ee\n",
        "# Trigger the authentication flow.\n",
        "ee.Authenticate()\n",
        "# import geopandas as gpd\n",
        "import matplotlib.pyplot as plt\n",
        "import folium\n",
        "# from folium import plugins\n",
        "\n",
        "# import sentinelhub\n",
        "# import gpd\n",
        "\n",
        "# from geopandas import GeoSeries, GeoDataFrame\n",
        "import json\n",
        "import time \n",
        "\n",
        "# import georaster\n",
        "\n",
        "# import geemap\n",
        "\n"
      ]
    },
    {
      "cell_type": "code",
      "execution_count": 3,
      "metadata": {
        "id": "65RChERMzQHZ"
      },
      "outputs": [
        {
          "ename": "AttributeError",
          "evalue": "module 'ee' has no attribute 'Authenticate'",
          "output_type": "error",
          "traceback": [
            "\u001b[0;31m---------------------------------------------------------------------------\u001b[0m",
            "\u001b[0;31mAttributeError\u001b[0m                            Traceback (most recent call last)",
            "Cell \u001b[0;32mIn[3], line 5\u001b[0m\n\u001b[1;32m      3\u001b[0m \u001b[39mimport\u001b[39;00m \u001b[39mee\u001b[39;00m\n\u001b[1;32m      4\u001b[0m \u001b[39m# Trigger the authentication flow.\u001b[39;00m\n\u001b[0;32m----> 5\u001b[0m ee\u001b[39m.\u001b[39;49mAuthenticate()\n\u001b[1;32m      6\u001b[0m \u001b[39m# import geopandas as gpd\u001b[39;00m\n\u001b[1;32m      7\u001b[0m \u001b[39mimport\u001b[39;00m \u001b[39mmatplotlib\u001b[39;00m\u001b[39m.\u001b[39;00m\u001b[39mpyplot\u001b[39;00m \u001b[39mas\u001b[39;00m \u001b[39mplt\u001b[39;00m\n",
            "\u001b[0;31mAttributeError\u001b[0m: module 'ee' has no attribute 'Authenticate'"
          ]
        }
      ],
      "source": [
        "# import io.StringIO\n",
        "\n",
        "import ee\n",
        "# Trigger the authentication flow.\n",
        "ee.Authenticate()\n",
        "# import geopandas as gpd\n",
        "import matplotlib.pyplot as plt\n",
        "import folium\n",
        "# from folium import plugins\n",
        "\n",
        "# import sentinelhub\n",
        "# import gpd\n",
        "\n",
        "# from geopandas import GeoSeries, GeoDataFrame\n",
        "import json\n",
        "import time \n",
        "\n",
        "# import georaster\n",
        "\n",
        "# import geemap\n",
        "\n"
      ]
    },
    {
      "attachments": {},
      "cell_type": "markdown",
      "metadata": {
        "id": "s-dN42MTzg-w"
      },
      "source": [
        "### Authenticate and initialize\n",
        "\n",
        "Run the `ee.Authenticate` function to authenticate your access to Earth Engine servers and `ee.Initialize` to initialize it. Upon running the following cell you'll be asked to grant Earth Engine access to your Google account. Follow the instructions printed to the cell."
      ]
    },
    {
      "cell_type": "code",
      "execution_count": 2,
      "metadata": {
        "colab": {
          "base_uri": "https://localhost:8080/"
        },
        "id": "NMp9Ei9b0XXL",
        "outputId": "8b11f43f-7f7f-44e4-d567-fa120828606d"
      },
      "outputs": [
        {
          "ename": "AttributeError",
          "evalue": "module 'ee' has no attribute 'Authenticate'",
          "output_type": "error",
          "traceback": [
            "\u001b[0;31m---------------------------------------------------------------------------\u001b[0m",
            "\u001b[0;31mAttributeError\u001b[0m                            Traceback (most recent call last)",
            "Cell \u001b[0;32mIn[2], line 2\u001b[0m\n\u001b[1;32m      1\u001b[0m \u001b[39m# Trigger the authentication flow.\u001b[39;00m\n\u001b[0;32m----> 2\u001b[0m ee\u001b[39m.\u001b[39;49mAuthenticate()\n\u001b[1;32m      4\u001b[0m \u001b[39m# Initialize the library.\u001b[39;00m\n\u001b[1;32m      5\u001b[0m ee\u001b[39m.\u001b[39mInitialize()\n",
            "\u001b[0;31mAttributeError\u001b[0m: module 'ee' has no attribute 'Authenticate'"
          ]
        }
      ],
      "source": [
        "\n",
        "\n",
        "# Initialize the library.\n",
        "ee.Initialize()"
      ]
    },
    {
      "attachments": {},
      "cell_type": "markdown",
      "metadata": {
        "id": "8I_Fr0L5AFmu"
      },
      "source": [
        "## Test the API\n",
        "\n",
        "Test the API by printing the elevation of Mount Everest."
      ]
    },
    {
      "cell_type": "code",
      "execution_count": 7,
      "metadata": {
        "colab": {
          "base_uri": "https://localhost:8080/"
        },
        "id": "v7pD6pDOAhOW",
        "outputId": "5effc71e-3f24-45c2-b9cd-a2bf9700305b"
      },
      "outputs": [
        {
          "name": "stdout",
          "output_type": "stream",
          "text": [
            "Mount Everest elevation (m): 8729\n"
          ]
        }
      ],
      "source": [
        "# Print the elevation of Mount Everest.\n",
        "dem = ee.Image('USGS/SRTMGL1_003')\n",
        "xy = ee.Geometry.Point([86.9250, 27.9881])\n",
        "elev = dem.sample(xy, 30).first().get('elevation').getInfo()\n",
        "print('Mount Everest elevation (m):', elev)"
      ]
    },
    {
      "attachments": {},
      "cell_type": "markdown",
      "metadata": {
        "id": "RzxMr1e_XEDM"
      },
      "source": [
        "# Layer for folium"
      ]
    },
    {
      "cell_type": "code",
      "execution_count": 10,
      "metadata": {
        "id": "sjuN9qSRXHuX"
      },
      "outputs": [],
      "source": [
        "# Add custom basemaps to folium\n",
        "basemaps = {\n",
        "    'Google Maps': folium.TileLayer(\n",
        "        tiles = 'https://mt1.google.com/vt/lyrs=m&x={x}&y={y}&z={z}',\n",
        "        attr = 'Google',\n",
        "        name = 'Google Maps',\n",
        "        overlay = True,\n",
        "        control = True\n",
        "    ),\n",
        "    'Google Satellite': folium.TileLayer(\n",
        "        tiles = 'https://mt1.google.com/vt/lyrs=s&x={x}&y={y}&z={z}',\n",
        "        attr = 'Google',\n",
        "        name = 'Google Satellite',\n",
        "        overlay = True,\n",
        "        control = True\n",
        "    ),\n",
        "    'Google Terrain': folium.TileLayer(\n",
        "        tiles = 'https://mt1.google.com/vt/lyrs=p&x={x}&y={y}&z={z}',\n",
        "        attr = 'Google',\n",
        "        name = 'Google Terrain',\n",
        "        overlay = True,\n",
        "        control = True\n",
        "    ),\n",
        "    'Google Satellite Hybrid': folium.TileLayer(\n",
        "        tiles = 'https://mt1.google.com/vt/lyrs=y&x={x}&y={y}&z={z}',\n",
        "        attr = 'Google',\n",
        "        name = 'Google Satellite',\n",
        "        overlay = True,\n",
        "        control = True\n",
        "    ),\n",
        "    'Esri Satellite': folium.TileLayer(\n",
        "        tiles = 'https://server.arcgisonline.com/ArcGIS/rest/services/World_Imagery/MapServer/tile/{z}/{y}/{x}',\n",
        "        attr = 'Esri',\n",
        "        name = 'Esri Satellite',\n",
        "        overlay = True,\n",
        "        control = True\n",
        "    )\n",
        "}"
      ]
    },
    {
      "attachments": {},
      "cell_type": "markdown",
      "metadata": {
        "id": "QwGLtJjDXIpe"
      },
      "source": [
        "# plot"
      ]
    },
    {
      "cell_type": "code",
      "execution_count": 39,
      "metadata": {
        "colab": {
          "base_uri": "https://localhost:8080/",
          "height": 34
        },
        "id": "E7imzFtZvgGd",
        "outputId": "714e3f71-27d0-41d7-f906-b2c1d15dfd09"
      },
      "outputs": [
        {
          "data": {
            "text/plain": [
              "<ee.image.Image at 0x7f338ddf4670>"
            ]
          },
          "metadata": {},
          "output_type": "display_data"
        }
      ],
      "source": []
    },
    {
      "cell_type": "code",
      "execution_count": 117,
      "metadata": {
        "colab": {
          "base_uri": "https://localhost:8080/"
        },
        "id": "0IcPvu7rf2hR",
        "outputId": "cd245b67-82c5-452e-ced7-7ee7c04be867"
      },
      "outputs": [
        {
          "data": {
            "text/plain": [
              "{'coordinates': [[[54.360723589073814, 31.900557381839263],\n",
              "   [54.360723589073814, 31.89907003779554],\n",
              "   [54.36249344408964, 31.89907003779554],\n",
              "   [54.36249344408964, 31.900557381839263],\n",
              "   [54.360723589073814, 31.900557381839263]]],\n",
              " 'type': 'Polygon'}"
            ]
          },
          "execution_count": 117,
          "metadata": {},
          "output_type": "execute_result"
        }
      ],
      "source": [
        "geometry"
      ]
    },
    {
      "cell_type": "code",
      "execution_count": 11,
      "metadata": {
        "colab": {
          "base_uri": "https://localhost:8080/",
          "height": 1000
        },
        "id": "UW9J_KebzKz5",
        "outputId": "e4b029bc-5aac-48be-c108-0f519082afb6"
      },
      "outputs": [
        {
          "data": {
            "text/html": [
              "<div style=\"width:100%;\"><div style=\"position:relative;width:100%;height:0;padding-bottom:60%;\"><span style=\"color:#565656\">Make this Notebook Trusted to load map: File -> Trust Notebook</span><iframe srcdoc=\"&lt;!DOCTYPE html&gt;\n",
              "&lt;html&gt;\n",
              "&lt;head&gt;\n",
              "    \n",
              "    &lt;meta http-equiv=&quot;content-type&quot; content=&quot;text/html; charset=UTF-8&quot; /&gt;\n",
              "    \n",
              "        &lt;script&gt;\n",
              "            L_NO_TOUCH = false;\n",
              "            L_DISABLE_3D = false;\n",
              "        &lt;/script&gt;\n",
              "    \n",
              "    &lt;style&gt;html, body {width: 100%;height: 100%;margin: 0;padding: 0;}&lt;/style&gt;\n",
              "    &lt;style&gt;#map {position:absolute;top:0;bottom:0;right:0;left:0;}&lt;/style&gt;\n",
              "    &lt;script src=&quot;https://cdn.jsdelivr.net/npm/leaflet@1.9.3/dist/leaflet.js&quot;&gt;&lt;/script&gt;\n",
              "    &lt;script src=&quot;https://code.jquery.com/jquery-1.12.4.min.js&quot;&gt;&lt;/script&gt;\n",
              "    &lt;script src=&quot;https://cdn.jsdelivr.net/npm/bootstrap@5.2.2/dist/js/bootstrap.bundle.min.js&quot;&gt;&lt;/script&gt;\n",
              "    &lt;script src=&quot;https://cdnjs.cloudflare.com/ajax/libs/Leaflet.awesome-markers/2.0.2/leaflet.awesome-markers.js&quot;&gt;&lt;/script&gt;\n",
              "    &lt;link rel=&quot;stylesheet&quot; href=&quot;https://cdn.jsdelivr.net/npm/leaflet@1.9.3/dist/leaflet.css&quot;/&gt;\n",
              "    &lt;link rel=&quot;stylesheet&quot; href=&quot;https://cdn.jsdelivr.net/npm/bootstrap@5.2.2/dist/css/bootstrap.min.css&quot;/&gt;\n",
              "    &lt;link rel=&quot;stylesheet&quot; href=&quot;https://netdna.bootstrapcdn.com/bootstrap/3.0.0/css/bootstrap.min.css&quot;/&gt;\n",
              "    &lt;link rel=&quot;stylesheet&quot; href=&quot;https://cdn.jsdelivr.net/npm/@fortawesome/fontawesome-free@6.2.0/css/all.min.css&quot;/&gt;\n",
              "    &lt;link rel=&quot;stylesheet&quot; href=&quot;https://cdnjs.cloudflare.com/ajax/libs/Leaflet.awesome-markers/2.0.2/leaflet.awesome-markers.css&quot;/&gt;\n",
              "    &lt;link rel=&quot;stylesheet&quot; href=&quot;https://cdn.jsdelivr.net/gh/python-visualization/folium/folium/templates/leaflet.awesome.rotate.min.css&quot;/&gt;\n",
              "    \n",
              "            &lt;meta name=&quot;viewport&quot; content=&quot;width=device-width,\n",
              "                initial-scale=1.0, maximum-scale=1.0, user-scalable=no&quot; /&gt;\n",
              "            &lt;style&gt;\n",
              "                #map_7b3fe3357ab497d14c0f5eb9023c2706 {\n",
              "                    position: relative;\n",
              "                    width: 100.0%;\n",
              "                    height: 100.0%;\n",
              "                    left: 0.0%;\n",
              "                    top: 0.0%;\n",
              "                }\n",
              "                .leaflet-container { font-size: 1rem; }\n",
              "            &lt;/style&gt;\n",
              "        \n",
              "&lt;/head&gt;\n",
              "&lt;body&gt;\n",
              "    \n",
              "    \n",
              "            &lt;div class=&quot;folium-map&quot; id=&quot;map_7b3fe3357ab497d14c0f5eb9023c2706&quot; &gt;&lt;/div&gt;\n",
              "        \n",
              "&lt;/body&gt;\n",
              "&lt;script&gt;\n",
              "    \n",
              "    \n",
              "            var map_7b3fe3357ab497d14c0f5eb9023c2706 = L.map(\n",
              "                &quot;map_7b3fe3357ab497d14c0f5eb9023c2706&quot;,\n",
              "                {\n",
              "                    center: [39.14019525724463, -94.57260260212433],\n",
              "                    crs: L.CRS.EPSG3857,\n",
              "                    zoom: 100,\n",
              "                    zoomControl: true,\n",
              "                    preferCanvas: false,\n",
              "                }\n",
              "            );\n",
              "\n",
              "            \n",
              "\n",
              "        \n",
              "    \n",
              "            var tile_layer_08bac7ee4a44fec9119ccaea8374d9af = L.tileLayer(\n",
              "                &quot;https://{s}.tile.openstreetmap.org/{z}/{x}/{y}.png&quot;,\n",
              "                {&quot;attribution&quot;: &quot;Data by \\u0026copy; \\u003ca target=\\&quot;_blank\\&quot; href=\\&quot;http://openstreetmap.org\\&quot;\\u003eOpenStreetMap\\u003c/a\\u003e, under \\u003ca target=\\&quot;_blank\\&quot; href=\\&quot;http://www.openstreetmap.org/copyright\\&quot;\\u003eODbL\\u003c/a\\u003e.&quot;, &quot;detectRetina&quot;: false, &quot;maxNativeZoom&quot;: 18, &quot;maxZoom&quot;: 18, &quot;minZoom&quot;: 0, &quot;noWrap&quot;: false, &quot;opacity&quot;: 1, &quot;subdomains&quot;: &quot;abc&quot;, &quot;tms&quot;: false}\n",
              "            ).addTo(map_7b3fe3357ab497d14c0f5eb9023c2706);\n",
              "        \n",
              "    \n",
              "        function geo_json_51ec5245c8d7e77844e8c9d9af288adc_styler(feature) {\n",
              "            switch(feature.id) {\n",
              "                default:\n",
              "                    return {&quot;color&quot;: &quot;red&quot;, &quot;fillColor&quot;: null, &quot;weight&quot;: 2};\n",
              "            }\n",
              "        }\n",
              "\n",
              "        function geo_json_51ec5245c8d7e77844e8c9d9af288adc_onEachFeature(feature, layer) {\n",
              "            layer.on({\n",
              "            });\n",
              "        };\n",
              "        var geo_json_51ec5245c8d7e77844e8c9d9af288adc = L.geoJson(null, {\n",
              "                onEachFeature: geo_json_51ec5245c8d7e77844e8c9d9af288adc_onEachFeature,\n",
              "            \n",
              "                style: geo_json_51ec5245c8d7e77844e8c9d9af288adc_styler,\n",
              "        });\n",
              "\n",
              "        function geo_json_51ec5245c8d7e77844e8c9d9af288adc_add (data) {\n",
              "            geo_json_51ec5245c8d7e77844e8c9d9af288adc\n",
              "                .addData(data)\n",
              "                .addTo(map_7b3fe3357ab497d14c0f5eb9023c2706);\n",
              "        }\n",
              "            geo_json_51ec5245c8d7e77844e8c9d9af288adc_add({&quot;features&quot;: [{&quot;geometry&quot;: {&quot;coordinates&quot;: [[[-94.57260260212433, 39.14019525724463], [-94.57071164476883, 39.14019525724463], [-94.57071164476883, 39.141118918340055], [-94.57260260212433, 39.141118918340055], [-94.57260260212433, 39.14019525724463]]], &quot;type&quot;: &quot;Polygon&quot;}, &quot;id&quot;: &quot;0&quot;, &quot;type&quot;: &quot;Feature&quot;}], &quot;type&quot;: &quot;FeatureCollection&quot;});\n",
              "\n",
              "        \n",
              "    \n",
              "            var tile_layer_6e4c44d6adb851e0f40fa67491dbbaab = L.tileLayer(\n",
              "                &quot;https://mt1.google.com/vt/lyrs=m\\u0026x={x}\\u0026y={y}\\u0026z={z}&quot;,\n",
              "                {&quot;attribution&quot;: &quot;Google&quot;, &quot;detectRetina&quot;: false, &quot;maxNativeZoom&quot;: 18, &quot;maxZoom&quot;: 18, &quot;minZoom&quot;: 0, &quot;noWrap&quot;: false, &quot;opacity&quot;: 1, &quot;subdomains&quot;: &quot;abc&quot;, &quot;tms&quot;: false}\n",
              "            ).addTo(map_7b3fe3357ab497d14c0f5eb9023c2706);\n",
              "        \n",
              "    \n",
              "            var tile_layer_0006656a14f489de106e8a7cf3073ab1 = L.tileLayer(\n",
              "                &quot;https://mt1.google.com/vt/lyrs=y\\u0026x={x}\\u0026y={y}\\u0026z={z}&quot;,\n",
              "                {&quot;attribution&quot;: &quot;Google&quot;, &quot;detectRetina&quot;: false, &quot;maxNativeZoom&quot;: 18, &quot;maxZoom&quot;: 18, &quot;minZoom&quot;: 0, &quot;noWrap&quot;: false, &quot;opacity&quot;: 1, &quot;subdomains&quot;: &quot;abc&quot;, &quot;tms&quot;: false}\n",
              "            ).addTo(map_7b3fe3357ab497d14c0f5eb9023c2706);\n",
              "        \n",
              "&lt;/script&gt;\n",
              "&lt;/html&gt;\" style=\"position:absolute;width:100%;height:100%;left:0;top:0;border:none !important;\" allowfullscreen webkitallowfullscreen mozallowfullscreen></iframe></div></div>"
            ],
            "text/plain": [
              "<folium.folium.Map at 0x7fc8deec0c10>"
            ]
          },
          "metadata": {},
          "output_type": "display_data"
        }
      ],
      "source": [
        "\n",
        "# Define your area of interest as a GeoDataFrame or read it from a GeoJSON file\n",
        "# gdf = gpd.read_file('geojason/selected_polygon.geojson')\n",
        "\n",
        "\n",
        "# Opening a GeoJSON file\n",
        "with open('geojason/selected_polygon.geojson') as f:\n",
        "    data = json.load(f)\n",
        "\n",
        "# Accessing the features\n",
        "features = data['features']\n",
        "\n",
        "# Convert the geometry column to a list of lists (required format for Earth Engine)\n",
        "# geometry = gdf.geometry.apply(lambda x: x.__geo_interface__['coordinates'][0]).tolist()\n",
        "geometry = data['features'][0]['geometry'][\"geometries\"][1][\"coordinates\"]\n",
        "# print(geometry)\n",
        "\n",
        "# Convert the list of lists to an Earth Engine Polygon object\n",
        "polygon = ee.Geometry.Polygon(geometry)\n",
        "# print(polygon)\n",
        "\n",
        "\n",
        "# Define the Sentinel-2 product collection and filter it by date and cloud cover\n",
        "collection = ee.ImageCollection('COPERNICUS/S2_SR') \\\n",
        "    .filterBounds(polygon) \\\n",
        "    .filterDate('2021-01-01', '2021-03-31') \\\n",
        "    .filter(ee.Filter.lt('CLOUDY_PIXEL_PERCENTAGE', 10))\n",
        "\n",
        "# Select the first image in the filtered collection\n",
        "image = ee.Image(collection.first())\n",
        "\n",
        "\n",
        "# display(image.select(['B4', 'B3', 'B2']))# Get the RGB bands to visualize\n",
        "rgb_bands = ['B4', 'B3', 'B2']\n",
        "\n",
        "# Convert the image to 8-bit RGB\n",
        "vis_params = {\n",
        "    'min': 0,\n",
        "    'max': 255,\n",
        "    'bands': rgb_bands\n",
        "}\n",
        "image_rgb = image.visualize(**vis_params)\n",
        "\n",
        "# Define map center and zoom level\n",
        "centroid = geometry[0][0]\n",
        "map_center = [centroid[1], centroid[0]]\n",
        "zoom_level = 100\n",
        "\n",
        "# Create a folium map object\n",
        "# my_map = folium.Map(location=map_center, zoom_start=zoom_level)\n",
        "\n",
        "# Set visualization parameters.\n",
        "vis_params = {\n",
        "  'min': 0,\n",
        "  'max': 4000,\n",
        "  # 'palette': ['006633', 'E5FFCC', '662A00', 'D8D8D8', 'F5F5F5']\n",
        "  }\n",
        "\n",
        "# Create a folium map object.\n",
        "my_map = folium.Map(location=map_center, zoom_start=100)\n",
        "# Add the polygon geometry to the map\n",
        "folium.GeoJson(\n",
        "    data=polygon.getInfo(),\n",
        "    name='Polygon',\n",
        "    style_function=lambda feature: {\n",
        "        'fillColor': None,\n",
        "        'color': 'red',\n",
        "        'weight': 2\n",
        "    }\n",
        ").add_to(my_map)\n",
        "# Add custom basemaps\n",
        "basemaps['Google Maps'].add_to(my_map)\n",
        "basemaps['Google Satellite Hybrid'].add_to(my_map)\n",
        "display(my_map)"
      ]
    },
    {
      "attachments": {},
      "cell_type": "markdown",
      "metadata": {
        "id": "WYlxs-xu4dYv"
      },
      "source": [
        "# get image from google map"
      ]
    },
    {
      "cell_type": "code",
      "execution_count": null,
      "metadata": {
        "id": "UGxLxjO-1BUq"
      },
      "outputs": [],
      "source": [
        "!pip install turfpy"
      ]
    },
    {
      "cell_type": "code",
      "execution_count": 127,
      "metadata": {
        "colab": {
          "base_uri": "https://localhost:8080/"
        },
        "id": "UnYNYWp1uGJ0",
        "outputId": "1ad14290-9070-46d5-acba-5740532ca300"
      },
      "outputs": [
        {
          "name": "stdout",
          "output_type": "stream",
          "text": [
            "-94.57260260212433 39.14019525724463 -94.57071164476883 39.141118918340055\n",
            "donwloading 0/24\n",
            "donwloading 1/24\n",
            "donwloading 2/24\n",
            "donwloading 3/24\n",
            "donwloading 4/24\n",
            "donwloading 5/24\n",
            "donwloading 6/24\n",
            "donwloading 7/24\n",
            "donwloading 8/24\n",
            "donwloading 9/24\n",
            "donwloading 10/24\n",
            "donwloading 11/24\n",
            "donwloading 12/24\n",
            "donwloading 13/24\n",
            "donwloading 14/24\n",
            "donwloading 15/24\n",
            "donwloading 16/24\n",
            "donwloading 17/24\n",
            "donwloading 18/24\n",
            "donwloading 19/24\n",
            "donwloading 20/24\n",
            "donwloading 21/24\n",
            "donwloading 22/24\n",
            "donwloading 23/24\n"
          ]
        },
        {
          "data": {
            "text/plain": [
              "(<PIL.Image.Image image mode=RGB size=1536x1024 at 0x7F3375AC2B00>,\n",
              " 124411,\n",
              " 200106,\n",
              " 124416,\n",
              " 200109,\n",
              " 1536,\n",
              " 1024)"
            ]
          },
          "execution_count": 127,
          "metadata": {},
          "output_type": "execute_result"
        }
      ],
      "source": [
        "\n",
        "#  pip install turfpy\n",
        "\n",
        "\n",
        "from turfpy.measurement import bbox\n",
        "import math\n",
        "from PIL import Image\n",
        "import requests\n",
        "import os\n",
        "path = '/content/drive/MyDrive/Proactiveware/figures'\n",
        "\n",
        "def num2deg(xtile, ytile, zoom):\n",
        "    n = 2.0 ** zoom\n",
        "    lon_deg = xtile / n * 360.0 - 180.0\n",
        "    lat_rad = math.atan(math.sinh(math.pi * (1 - 2 * ytile / n)))\n",
        "    lat_deg = math.degrees(lat_rad)\n",
        "    return (lat_deg, lon_deg)\n",
        "\n",
        "def getXY(lng, lat, zoom):\n",
        "    tile_size = 256\n",
        "    numTiles = 1 << zoom\n",
        "    point_x = (tile_size/ 2 + lng * tile_size / 360.0) * numTiles // tile_size\n",
        "    sin_y = math.sin(lat * (math.pi / 180.0))\n",
        "    point_y = ((tile_size / 2) + 0.5 * math.log((1+sin_y)/(1-sin_y)) * -(tile_size / (2 * math.pi))) * numTiles // tile_size\n",
        "    return int(point_x), int(point_y)\n",
        "\n",
        "\n",
        "def download_im(geometry, zoom):\n",
        "    num = 0\n",
        "    header = {'User-Agent': 'Mozilla/5.0 (X11; Linux x86_64) AppleWebKit/537.36 (KHTML, like Gecko) Chrome/51.0.2704.103 Safari/537.36'}\n",
        "    minlon, minlat, maxlon, maxlat = bbox(geometry)\n",
        "    print(minlon, minlat, maxlon, maxlat)\n",
        "\n",
        "    start_x, start_y = getXY(minlon, maxlat, zoom)\n",
        "    end_x, end_y = getXY(maxlon, minlat, zoom)\n",
        "\n",
        "\n",
        "    start_x -=1\n",
        "    start_y -=1\n",
        "\n",
        "    end_x +=1\n",
        "    end_y +=1\n",
        "\n",
        "\n",
        "    w = (end_x+1 - start_x) * 256\n",
        "    h = (end_y+1 - start_y) * 256\n",
        "    result = Image.new(\"RGB\", (w, h))\n",
        "\n",
        "    for x in range(start_x, end_x+1):\n",
        "        for y in range(start_y, end_y+1):\n",
        "            print(f\"donwloading {num}/{((end_x+1) - (start_x)) * ((end_y+1) - (start_y)) }\")\n",
        "            \n",
        "            while True:\n",
        "                try:\n",
        "                    url = \"http://mt1.google.com/vt/lyrs=y&x={}&y={}&z={}\".format(x,y, zoom)\n",
        "                    raw = requests.get(url, stream=True, headers=header).raw\n",
        "                    break\n",
        "                except:\n",
        "                    continue\n",
        "            \n",
        "            i = Image.open(raw)\n",
        "            x_paste = (x - start_x) * 256\n",
        "            y_paste = h - (end_y+1 - y) * 256\n",
        "            result.paste(i, (x_paste, y_paste))\n",
        "            num +=1\n",
        "    name = os.path.join(path, \"map_{}_{}_{}_{}.png\".format(minlat, minlon, maxlat, maxlon))\n",
        "    result.save(os.path.join (name))\n",
        "    return result, start_x, start_y, end_x, end_y, w, h\n",
        "\n",
        "\n",
        "# geometry = {\n",
        "#         \"coordinates\": [\n",
        "#           [\n",
        "#             [\n",
        "#               54.360723589073814,\n",
        "#               31.900557381839263\n",
        "#             ],\n",
        "#             [\n",
        "#               54.360723589073814,\n",
        "#               31.89907003779554\n",
        "#             ],\n",
        "#             [\n",
        "#               54.36249344408964,\n",
        "#               31.89907003779554\n",
        "#             ],\n",
        "#             [\n",
        "#               54.36249344408964,\n",
        "#               31.900557381839263\n",
        "#             ],\n",
        "#             [\n",
        "#               54.360723589073814,\n",
        "#               31.900557381839263\n",
        "#             ]\n",
        "#           ]\n",
        "#         ],\n",
        "#         \"type\": \"Polygon\"\n",
        "#       }\n",
        "\n",
        "geometry = {'coordinates': [[[-94.57260260212433, 39.14019525724463],\n",
        "       [-94.57071164476883, 39.14019525724463],\n",
        "       [-94.57071164476883, 39.141118918340055],\n",
        "       [-94.57260260212433, 39.141118918340055],\n",
        "       [-94.57260260212433, 39.14019525724463]]],\n",
        "     'type': 'Polygon'}\n",
        "# zoom = 18\n",
        "zoom = 19\n",
        "download_im(geometry, zoom)"
      ]
    },
    {
      "cell_type": "code",
      "execution_count": 121,
      "metadata": {
        "colab": {
          "base_uri": "https://localhost:8080/"
        },
        "id": "mZA8lo4I04wm",
        "outputId": "9507bc31-d306-47e8-9ee3-c19a81cf3712"
      },
      "outputs": [
        {
          "data": {
            "text/plain": [
              "[[[-94.57260260212433, 39.14019525724463],\n",
              "  [-94.57071164476883, 39.14019525724463],\n",
              "  [-94.57071164476883, 39.141118918340055],\n",
              "  [-94.57260260212433, 39.141118918340055],\n",
              "  [-94.57260260212433, 39.14019525724463]]]"
            ]
          },
          "execution_count": 121,
          "metadata": {},
          "output_type": "execute_result"
        }
      ],
      "source": [
        "geometry"
      ]
    },
    {
      "cell_type": "code",
      "execution_count": 122,
      "metadata": {
        "colab": {
          "base_uri": "https://localhost:8080/"
        },
        "id": "4unXV5g04zM2",
        "outputId": "f0de1bbc-25d8-4879-8904-7eaab72a50da"
      },
      "outputs": [
        {
          "data": {
            "text/plain": [
              "[{'geometry': {'geodesic': False,\n",
              "   'geometries': [{'coordinates': [-94.57337904580696, 39.14119634269676],\n",
              "     'type': 'Point'},\n",
              "    {'coordinates': [[[-94.57260260212433, 39.14019525724463],\n",
              "       [-94.57071164476883, 39.14019525724463],\n",
              "       [-94.57071164476883, 39.141118918340055],\n",
              "       [-94.57260260212433, 39.141118918340055],\n",
              "       [-94.57260260212433, 39.14019525724463]]],\n",
              "     'type': 'Polygon'}],\n",
              "   'type': 'GeometryCollection'},\n",
              "  'id': '0',\n",
              "  'properties': {},\n",
              "  'type': 'Feature'}]"
            ]
          },
          "execution_count": 122,
          "metadata": {},
          "output_type": "execute_result"
        }
      ],
      "source": [
        "data['features']"
      ]
    },
    {
      "cell_type": "code",
      "execution_count": null,
      "metadata": {
        "id": "5rzMGtJu4-VR"
      },
      "outputs": [],
      "source": []
    }
  ],
  "metadata": {
    "colab": {
      "provenance": []
    },
    "kernelspec": {
      "display_name": "Python 3",
      "name": "python3"
    },
    "language_info": {
      "codemirror_mode": {
        "name": "ipython",
        "version": 3
      },
      "file_extension": ".py",
      "mimetype": "text/x-python",
      "name": "python",
      "nbconvert_exporter": "python",
      "pygments_lexer": "ipython3",
      "version": "3.10.6"
    }
  },
  "nbformat": 4,
  "nbformat_minor": 0
}
